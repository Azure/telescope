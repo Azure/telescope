{
 "cells": [
  {
   "cell_type": "markdown",
   "id": "bfaad8dc",
   "metadata": {},
   "source": [
    "# Telescope AWS Local Development\n",
    "\n",
    "This notebook provides a step-by-step guide for manually running Terraform for AWS telescope testing.\n",
    "\n",
    "## Prerequisites\n",
    "\n",
    "Before running this notebook, ensure you have:\n",
    "* [Terraform 1.7.3](https://developer.hashicorp.com/terraform/tutorials/aws-get-started/install-cli)\n",
    "* [AWS CLI v2](https://docs.aws.amazon.com/cli/latest/userguide/getting-started-install.html)\n",
    "* [jq 1.6-2.1ubuntu3](https://stedolan.github.io/jq/download/)\n",
    "\n",
    "**Note**: All commands should be run from the root of the repository in a bash shell (Linux or WSL)."
   ]
  },
  {
   "cell_type": "markdown",
   "id": "759c9600",
   "metadata": {},
   "source": [
    "## 1. Prerequisites Check\n",
    "\n",
    "First, let's verify that all required tools are installed and accessible."
   ]
  },
  {
   "cell_type": "code",
   "execution_count": null,
   "id": "9aa6950e",
   "metadata": {},
   "outputs": [],
   "source": [
    "# Check prerequisites\n",
    "echo \"🔍 Checking prerequisites...\"\n",
    "echo \"===========================================\"\n",
    "\n",
    "# Check Terraform\n",
    "if command -v terraform &> /dev/null; then\n",
    "    TERRAFORM_VERSION=$(terraform version -json | jq -r '.terraform_version')\n",
    "    echo \"✅ Terraform: $TERRAFORM_VERSION\"\n",
    "else\n",
    "    echo \"❌ Terraform not found\"\n",
    "fi\n",
    "\n",
    "# Check AWS CLI\n",
    "if command -v aws &> /dev/null; then\n",
    "    AWS_VERSION=$(aws --version 2>&1)\n",
    "    echo \"✅ AWS CLI: $AWS_VERSION\"\n",
    "else\n",
    "    echo \"❌ AWS CLI not found\"\n",
    "fi\n",
    "\n",
    "# Check jq\n",
    "if command -v jq &> /dev/null; then\n",
    "    JQ_VERSION=$(jq --version)\n",
    "    echo \"✅ jq: $JQ_VERSION\"\n",
    "else\n",
    "    echo \"❌ jq not found\"\n",
    "fi\n",
    "\n",
    "echo \"\"\n",
    "echo \"📍 Current directory: $(pwd)\"\n",
    "echo \"💡 Make sure you're running from the telescope repository root\"\n",
    "\n",
    "# Navigate to repository root if not already there\n",
    "if [ ! -f \"scenarios\" ] && [ ! -d \"scenarios\" ]; then\n",
    "    echo \"🔄 Navigating to repository root...\"\n",
    "    cd ../../../\n",
    "    echo \"📍 New directory: $(pwd)\"\n",
    "    export ROOT_DIR=$(pwd)\n",
    "fi"
   ]
  },
  {
   "cell_type": "markdown",
   "id": "ae704a7d",
   "metadata": {},
   "source": [
    "## 2. Define Variables\n",
    "\n",
    "Set environment variables for your specific test scenario. This example uses `perf-eval/nap` scenario."
   ]
  },
  {
   "cell_type": "code",
   "execution_count": null,
   "id": "582310c4",
   "metadata": {},
   "outputs": [],
   "source": [
    "\n",
    "# Define test scenario variables\n",
    "export SCENARIO_TYPE=perf-eval\n",
    "export SCENARIO_NAME=nap\n",
    "export OWNER=$(whoami)\n",
    "export RUN_ID=$(date +%s)\n",
    "export CLOUD=aws\n",
    "export REGION=us-east-2\n",
    "export K8S_MACHINE_TYPE=\"\"\n",
    "export K8S_OS_DISK_TYPE=\"\"\n",
    "export CREATION_TIME=$(date -uIseconds | sed 's/+00:00/Z/')\n",
    "export TERRAFORM_MODULES_DIR=modules/terraform/$CLOUD\n",
    "export TERRAFORM_INPUT_FILE=$ROOT_DIR/scenarios/$SCENARIO_TYPE/$SCENARIO_NAME/terraform-inputs/${CLOUD}.tfvars\n",
    "export TERRAFORM_USER_DATA_PATH=$ROOT_DIR/scenarios/$SCENARIO_TYPE/$SCENARIO_NAME/scripts/user_data\n",
    "\n",
    "echo \"📋 Configuration Summary:\"\n",
    "echo \"========================\"\n",
    "echo \"Scenario: $SCENARIO_TYPE/$SCENARIO_NAME\"\n",
    "echo \"Owner: $OWNER\"\n",
    "echo \"Run ID: $RUN_ID\"\n",
    "echo \"Cloud: $CLOUD\"\n",
    "echo \"Region: $REGION\"\n",
    "echo \"K8S_MACHINE_TYPE: $K8S_MACHINE_TYPE\"\n",
    "echo \"K8S_OS_DISK_TYPE: $K8S_OS_DISK_TYPE\"\n",
    "echo \"Creation Time: $CREATION_TIME\"\n",
    "echo \"Terraform Input File: $TERRAFORM_INPUT_FILE\"\n",
    "echo \"User Data Path: $TERRAFORM_USER_DATA_PATH\"\n",
    "echo \"\"\n",
    "echo \"⚠️  Note: RUN_ID should be unique as it's used to name AWS resources\""
   ]
  },
  {
   "cell_type": "markdown",
   "id": "77d64760",
   "metadata": {},
   "source": [
    "## 3. AWS Authentication\n",
    "\n",
    "Verify AWS credentials and configuration."
   ]
  },
  {
   "cell_type": "code",
   "execution_count": null,
   "id": "589e0d6f",
   "metadata": {},
   "outputs": [],
   "source": [
    "# AWS authentication check\n",
    "echo \"🔐 AWS Authentication\"\n",
    "echo \"=====================\"\n",
    "\n",
    "# Check if AWS credentials are configured\n",
    "if aws sts get-caller-identity &> /dev/null; then\n",
    "    echo \"✅ AWS credentials are configured\"\n",
    "    \n",
    "    # Display current identity\n",
    "    echo \"📋 Current AWS Identity:\"\n",
    "    aws sts get-caller-identity --output table    \n",
    "else\n",
    "    echo \"❌ AWS credentials not configured or invalid\"\n",
    "    echo \"💡 Please run 'aws configure' to set up your credentials\"\n",
    "    echo \"   export AWS_ACCESS_KEY_ID=your-access-key\"\n",
    "    echo \"   export AWS_SECRET_ACCESS_KEY=your-secret-key\"\n",
    "    echo \"   export AWS_DEFAULT_REGION=$REGION\"\n",
    "fi\n",
    "\n",
    "# Set the region for this session\n",
    "export AWS_DEFAULT_REGION=$REGION\n",
    "echo \"\"\n",
    "echo \"🔧 Session region set to: $AWS_DEFAULT_REGION\""
   ]
  },
  {
   "cell_type": "markdown",
   "id": "760d2445",
   "metadata": {},
   "source": [
    "## 4. Prepare Terraform Input JSON\n",
    "\n",
    "Create the JSON input for Terraform with all the configuration parameters."
   ]
  },
  {
   "cell_type": "code",
   "execution_count": null,
   "id": "1d4815fb",
   "metadata": {},
   "outputs": [],
   "source": [
    "# Create INPUT_JSON variable for AWS\n",
    "echo \"📝 Preparing Terraform Input JSON\"\n",
    "echo \"=================================\"\n",
    "\n",
    "export INPUT_JSON=$(jq -n \\\n",
    "  --arg run_id $RUN_ID \\\n",
    "  --arg region $REGION \\\n",
    "  --arg creation_time \"$CREATION_TIME\" \\\n",
    "  --arg eks_kubernetes_version \"$KUBERNETES_VERSION\" \\\n",
    "  --arg k8s_machine_type \"$K8S_MACHINE_TYPE\" \\\n",
    "  --arg k8s_os_disk_type \"$K8S_OS_DISK_TYPE\" \\\n",
    "  --arg terraform_user_data_path \"$TERRAFORM_USER_DATA_PATH\" \\\n",
    "  '{\n",
    "    run_id: $run_id,\n",
    "    region: $region,\n",
    "    creation_time: $creation_time,\n",
    "    eks_kubernetes_version: $eks_kubernetes_version,\n",
    "    k8s_machine_type: $k8s_machine_type,\n",
    "    k8s_os_disk_type: $k8s_os_disk_type,\n",
    "    terraform_user_data_path: $terraform_user_data_path\n",
    "  }' | jq 'with_entries(select(.value != null and .value != \"\"))')\n",
    "\n",
    "echo \"📋 Terraform Input JSON:\"\n",
    "echo \"$INPUT_JSON\" | jq .\n",
    "\n",
    "echo \"\"\n",
    "echo \"📂 Terraform Input File: $TERRAFORM_INPUT_FILE\"\n",
    "if [ -f \"$TERRAFORM_INPUT_FILE\" ]; then\n",
    "    echo \"✅ Terraform input file exists\"\n",
    "else\n",
    "    echo \"⚠️  Terraform input file not found\"\n",
    "fi\n"
   ]
  },
  {
   "cell_type": "markdown",
   "id": "e948eace",
   "metadata": {},
   "source": [
    "## 5. Terraform Initialization & Plan\n",
    "\n",
    "Initialize Terraform in the AWS modules directory."
   ]
  },
  {
   "cell_type": "code",
   "execution_count": null,
   "id": "975c7d8f",
   "metadata": {},
   "outputs": [],
   "source": [
    "# Terraform initialization\n",
    "echo \"🚀 Terraform Initialization\"\n",
    "echo \"===========================\"\n",
    "\n",
    "# Change to terraform directory\n",
    "pushd $TERRAFORM_MODULES_DIR\n",
    "\n",
    "echo \"📂 Current directory: $(pwd)\"\n",
    "echo \"🔧 Initializing Terraform...\"\n",
    "terraform init\n",
    "echo \"🚀 Terraform Plan\"\n",
    "echo \"===========================\"\n",
    "terraform plan \\\n",
    "  -var json_input=\"$(echo $INPUT_JSON | jq -c .)\" \\\n",
    "  -var-file $TERRAFORM_INPUT_FILE\n",
    "\n",
    "echo \"\"\n",
    "popd"
   ]
  },
  {
   "cell_type": "markdown",
   "id": "e396de09",
   "metadata": {},
   "source": [
    "## 7. Terraform Apply\n",
    "\n",
    "Apply the Terraform configuration to provision AWS resources.\n",
    "\n",
    "**⚠️ WARNING**: This will create actual AWS resources and may incur costs."
   ]
  },
  {
   "cell_type": "code",
   "execution_count": null,
   "id": "450da08d",
   "metadata": {},
   "outputs": [],
   "source": [
    "# Terraform apply\n",
    "echo \"🚀 Terraform Apply\"\n",
    "echo \"==================\"\n",
    "\n",
    "echo \"⚠️  WARNING: This will provision actual AWS resources!\"\n",
    "echo \"💰 This may incur costs in your AWS account\"\n",
    "echo \"⏰ Resources will be tagged with creation time: $CREATION_TIME\"\n",
    "echo \"\"\n",
    "\n",
    "pushd $TERRAFORM_MODULES_DIR\n",
    "terraform apply -var json_input=\"$(echo $INPUT_JSON | jq -c .)\" -var-file $TERRAFORM_INPUT_FILE --auto-approve\n",
    "popd"
   ]
  },
  {
   "cell_type": "markdown",
   "id": "208d856c",
   "metadata": {},
   "source": [
    "## 8. Cleanup Resources\n",
    "\n",
    "**IMPORTANT**: Always clean up resources after testing to avoid unnecessary costs."
   ]
  },
  {
   "cell_type": "code",
   "execution_count": null,
   "id": "d8f429cc",
   "metadata": {},
   "outputs": [],
   "source": [
    "# Cleanup with Terraform\n",
    "echo \"🧹 Terraform Cleanup\"\n",
    "echo \"=====================\"\n",
    "\n",
    "echo \"⚠️  WARNING: This will destroy all provisioned resources!\"\n",
    "echo \"💾 Make sure to save any important data before proceeding\"\n",
    "echo \"\"\n",
    "\n",
    "pushd $TERRAFORM_MODULES_DIR\n",
    "terraform destroy -var json_input=\"$(echo $INPUT_JSON | jq -c .)\" -var-file $TERRAFORM_INPUT_FILE --auto-approve\n",
    "popd"
   ]
  }
 ],
 "metadata": {
  "kernelspec": {
   "display_name": "Bash",
   "language": "bash",
   "name": "bash"
  },
  "language_info": {
   "codemirror_mode": "shell",
   "file_extension": ".sh",
   "mimetype": "text/x-sh",
   "name": "bash"
  }
 },
 "nbformat": 4,
 "nbformat_minor": 5
}
