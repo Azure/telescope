{
 "cells": [
  {
   "cell_type": "markdown",
   "id": "fa52ee8d",
   "metadata": {},
   "source": [
    "# Telescope Azure Local Development\n",
    "\n",
    "This notebook provides a step-by-step guide for manually running Terraform for Azure telescope testing.\n",
    "\n",
    "## Prerequisites\n",
    "\n",
    "Before running this notebook, ensure you have:\n",
    "* [Terraform 1.7.3](https://developer.hashicorp.com/terraform/tutorials/azure-get-started/install-cli)\n",
    "* [Azure CLI 2.57.0](https://learn.microsoft.com/en-us/cli/azure/install-azure-cli-linux?pivots=apt)\n",
    "* [jq 1.6-2.1ubuntu3](https://stedolan.github.io/jq/download/)\n",
    "\n",
    "**Note**: All commands should be run from the root of the repository in a bash shell (Linux or WSL)."
   ]
  },
  {
   "cell_type": "markdown",
   "id": "7f850eb7",
   "metadata": {},
   "source": [
    "## 1. Prerequisites Check\n",
    "\n",
    "First, let's verify that all required tools are installed and accessible."
   ]
  },
  {
   "cell_type": "code",
   "execution_count": null,
   "id": "9bf612a0",
   "metadata": {},
   "outputs": [],
   "source": [
    "# Check prerequisites\n",
    "echo \"🔍 Checking prerequisites...\"\n",
    "echo \"===========================================\"\n",
    "\n",
    "# Check Terraform\n",
    "if command -v terraform &> /dev/null; then\n",
    "    TERRAFORM_VERSION=$(terraform version -json | jq -r '.terraform_version')\n",
    "    echo \"✅ Terraform: $TERRAFORM_VERSION\"\n",
    "else\n",
    "    echo \"❌ Terraform not found\"\n",
    "fi\n",
    "\n",
    "# Check Azure CLI\n",
    "if command -v az &> /dev/null; then\n",
    "    AZ_VERSION=$(az version --output tsv --query '\"azure-cli\"')\n",
    "    echo \"✅ Azure CLI: $AZ_VERSION\"\n",
    "else\n",
    "    echo \"❌ Azure CLI not found\"\n",
    "fi\n",
    "\n",
    "# Check jq\n",
    "if command -v jq &> /dev/null; then\n",
    "    JQ_VERSION=$(jq --version)\n",
    "    echo \"✅ jq: $JQ_VERSION\"\n",
    "else\n",
    "    echo \"❌ jq not found\"\n",
    "fi\n",
    "\n",
    "echo \"\"\n",
    "echo \"📍 Current directory: $(pwd)\"\n",
    "echo \"💡 Make sure you're running from the telescope repository root\"\n",
    "\n",
    "# Navigate to repository root if not already there\n",
    "if [ ! -f \"scenarios\" ] && [ ! -d \"scenarios\" ]; then\n",
    "    echo \"🔄 Navigating to repository root...\"\n",
    "    cd ../../../\n",
    "    echo \"📍 New directory: $(pwd)\"\n",
    "    export ROOT_DIR=$(pwd)\n",
    "fi"
   ]
  },
  {
   "cell_type": "markdown",
   "id": "43bd2bcf",
   "metadata": {},
   "source": [
    "## 2. Define Variables\n",
    "\n",
    "Set environment variables for your specific test scenario. This example uses `perf-eval/nap` scenario."
   ]
  },
  {
   "cell_type": "code",
   "execution_count": null,
   "id": "9a45c5b9",
   "metadata": {},
   "outputs": [],
   "source": [
    "\n",
    "# Define test scenario variables\n",
    "export SCENARIO_TYPE=perf-eval\n",
    "export SCENARIO_NAME=nap\n",
    "export OWNER=$(whoami)\n",
    "export RUN_ID=$(date +%s)\n",
    "export CLOUD=azure\n",
    "export REGION=eastus2\n",
    "export AZURE_SUBSCRIPTION_ID=\"f6e2f77f-9959-42ad-87f0-c30a6abc0133\"\n",
    "export SKU_TIER=standard\n",
    "export KUBERNETES_VERSION=\"\"\n",
    "export NETWORK_POLICY=\"\"\n",
    "export NETWORK_DATAPLANE=\"\"\n",
    "export TERRAFORM_MODULES_DIR=$ROOT_DIR/modules/terraform/$CLOUD\n",
    "export TERRAFORM_INPUT_FILE=$ROOT_DIR/scenarios/$SCENARIO_TYPE/$SCENARIO_NAME/terraform-inputs/${CLOUD}.tfvars\n",
    "export SYSTEM_NODE_POOL=${SYSTEM_NODE_POOL:-null}\n",
    "export USER_NODE_POOL=${USER_NODE_POOL:-null}\n",
    "\n",
    "echo \"📋 Configuration Summary:\"\n",
    "echo \"========================\"\n",
    "echo \"Scenario: $SCENARIO_TYPE/$SCENARIO_NAME\"\n",
    "echo \"Owner: $OWNER\"\n",
    "echo \"Run ID: $RUN_ID\"\n",
    "echo \"Cloud: $CLOUD\"\n",
    "echo \"Region: $REGION\"\n",
    "echo \"SKU Tier: $SKU_TIER\"\n",
    "echo \"Kubernetes Version: $KUBERNETES_VERSION\"\n",
    "echo \"Network Policy: $NETWORK_POLICY\"\n",
    "echo \"Network Dataplane: $NETWORK_DATAPLANE\"\n",
    "echo \"Terraform Input File: $TERRAFORM_INPUT_FILE\"\n",
    "echo \"\"\n",
    "echo \"⚠️  Note: RUN_ID should be unique as it's used to name the Azure resource group\""
   ]
  },
  {
   "cell_type": "markdown",
   "id": "2d1089e8",
   "metadata": {},
   "source": [
    "## 3. Azure Authentication\n",
    "\n",
    "Login to Azure and set up the subscription for testing."
   ]
  },
  {
   "cell_type": "code",
   "execution_count": null,
   "id": "bc74e52c",
   "metadata": {},
   "outputs": [],
   "source": [
    "# Azure login\n",
    "echo \"🔐 Azure Authentication\"\n",
    "echo \"======================\"\n",
    "\n",
    "# Check if already logged in\n",
    "if az account show &> /dev/null; then\n",
    "    echo \"✅ Already logged into Azure\"\n",
    "    az account set -s $AZURE_SUBSCRIPTION_ID\n",
    "    CURRENT_SUB=$(az account show --query name -o tsv)\n",
    "    echo \"Current subscription: $CURRENT_SUB\"\n",
    "else\n",
    "    echo \"🌐 Logging into Azure...\"\n",
    "    az login --use-device-code\n",
    "    az account set -s $AZURE_SUBSCRIPTION_ID\n",
    "fi\n",
    "\n",
    "echo \"\"\n",
    "export ARM_SUBSCRIPTION_ID=$(az account show --query id -o tsv)\n",
    "\n",
    "# Verify subscription\n",
    "az account show --query \"{Name:name, SubscriptionId:id, State:state}\" --output table"
   ]
  },
  {
   "cell_type": "markdown",
   "id": "a3fff605",
   "metadata": {},
   "source": [
    "## 4. Create Resource Group\n",
    "\n",
    "Create an Azure resource group for the telescope testing resources."
   ]
  },
  {
   "cell_type": "code",
   "execution_count": null,
   "id": "e000939e",
   "metadata": {},
   "outputs": [],
   "source": [
    "# Create Resource Group\n",
    "echo \"🏗️  Creating Azure Resource Group\"\n",
    "echo \"=================================\"\n",
    "\n",
    "# Create resource group with appropriate tags\n",
    "az group create \\\n",
    "  --name $RUN_ID \\\n",
    "  --location $REGION \\\n",
    "  --tags \\\n",
    "    \"run_id=$RUN_ID\" \\\n",
    "    \"scenario=${SCENARIO_TYPE}-${SCENARIO_NAME}\" \\\n",
    "    \"owner=${OWNER}\" \\\n",
    "    \"creation_date=$(date -u +'%Y-%m-%dT%H:%M:%SZ')\" \\\n",
    "    \"deletion_due_time=$(date -u -d '+2 hour' +'%Y-%m-%dT%H:%M:%SZ')\"\n",
    "\n",
    "echo \"\"\n",
    "echo \"✅ Resource Group Created: $RUN_ID\"\n",
    "echo \"📍 Location: $REGION\"\n",
    "echo \"⏰ Deletion due time: $(date -u -d '+2 hour' +'%Y-%m-%dT%H:%M:%SZ')\""
   ]
  },
  {
   "cell_type": "markdown",
   "id": "8b05ff28",
   "metadata": {},
   "source": [
    "## 5. Prepare Terraform Input JSON\n",
    "\n",
    "Create the JSON input for Terraform with all the configuration parameters."
   ]
  },
  {
   "cell_type": "code",
   "execution_count": null,
   "id": "ef9006dd",
   "metadata": {},
   "outputs": [],
   "source": [
    "# Create INPUT_JSON variable\n",
    "echo \"📝 Preparing Terraform Input JSON\"\n",
    "echo \"=================================\"\n",
    "\n",
    "export INPUT_JSON=$(jq -n \\\n",
    "  --arg run_id $RUN_ID \\\n",
    "  --arg region $REGION \\\n",
    "  --arg aks_sku_tier \"$SKU_TIER\" \\\n",
    "  --arg aks_kubernetes_version \"$KUBERNETES_VERSION\" \\\n",
    "  --arg aks_network_policy \"$NETWORK_POLICY\" \\\n",
    "  --arg aks_network_dataplane \"$NETWORK_DATAPLANE\" \\\n",
    "  --arg k8s_machine_type \"$K8S_MACHINE_TYPE\" \\\n",
    "  --arg k8s_os_disk_type \"$K8S_OS_DISK_TYPE\" \\\n",
    "  --argjson aks_cli_system_node_pool \"$SYSTEM_NODE_POOL\" \\\n",
    "  --argjson aks_cli_user_node_pool \"$USER_NODE_POOL\" \\\n",
    "  '{\n",
    "    run_id: $run_id,\n",
    "    region: $region,\n",
    "    aks_sku_tier: $aks_sku_tier,\n",
    "    aks_kubernetes_version: $aks_kubernetes_version,\n",
    "    aks_network_policy: $aks_network_policy,\n",
    "    aks_network_dataplane: $aks_network_dataplane,\n",
    "    k8s_machine_type: $k8s_machine_type,\n",
    "    k8s_os_disk_type: $k8s_os_disk_type,\n",
    "    aks_cli_system_node_pool: $aks_cli_system_node_pool,\n",
    "    aks_cli_user_node_pool: $aks_cli_user_node_pool\n",
    "  }' | jq 'with_entries(select(.value != null and .value != \"\"))')\n",
    "\n",
    "echo \"📋 Terraform Input JSON:\"\n",
    "echo \"$INPUT_JSON\" | jq .\n",
    "\n",
    "echo \"\"\n",
    "echo \"📂 Terraform Input File: $TERRAFORM_INPUT_FILE\"\n",
    "if [ -f \"$TERRAFORM_INPUT_FILE\" ]; then\n",
    "    echo \"✅ Terraform input file exists\"\n",
    "else\n",
    "    echo \"⚠️  Terraform input file not found\"\n",
    "fi"
   ]
  },
  {
   "cell_type": "markdown",
   "id": "1b411e93",
   "metadata": {},
   "source": [
    "## 6. Terraform Initialization & Plan\n",
    "\n",
    "Initialize Terraform in the Azure modules directory.\n",
    "Run Terraform Plan"
   ]
  },
  {
   "cell_type": "code",
   "execution_count": null,
   "id": "bb48000f",
   "metadata": {},
   "outputs": [],
   "source": [
    "# Terraform initialization\n",
    "echo \"🚀 Terraform Initialization\"\n",
    "echo \"===========================\"\n",
    "\n",
    "# Change to terraform directory\n",
    "pushd $TERRAFORM_MODULES_DIR\n",
    "\n",
    "echo \"📂 Current directory: $(pwd)\"\n",
    "echo \"🔧 Initializing Terraform...\"\n",
    "terraform init\n",
    "echo \"🚀 Terraform Plan\"\n",
    "echo \"===========================\"\n",
    "terraform plan \\\n",
    "  -var json_input=\"$(echo $INPUT_JSON | jq -c .)\" \\\n",
    "  -var-file $TERRAFORM_INPUT_FILE\n",
    "\n",
    "echo \"\"\n",
    "popd"
   ]
  },
  {
   "cell_type": "markdown",
   "id": "8891a30b",
   "metadata": {},
   "source": [
    "## 7. Terraform Apply\n",
    "\n",
    "Apply the Terraform configuration to provision Azure resources.\n",
    "\n",
    "**⚠️ WARNING**: This will create actual Azure resources and may incur costs."
   ]
  },
  {
   "cell_type": "code",
   "execution_count": null,
   "id": "3959ae1a",
   "metadata": {},
   "outputs": [],
   "source": [
    "# Terraform apply\n",
    "echo \"🚀 Terraform Apply\"\n",
    "echo \"==================\"\n",
    "\n",
    "echo \"⚠️  WARNING: This will provision actual Azure resources!\"\n",
    "echo \"💰 This may incur costs in your Azure subscription\"\n",
    "echo \"⏰ Resources will be tagged for deletion in 2 hours\"\n",
    "echo \"\"\n",
    "\n",
    "pushd $TERRAFORM_MODULES_DIR\n",
    "terraform apply -var json_input=\"$(echo $INPUT_JSON | jq -c .)\" -var-file $TERRAFORM_INPUT_FILE --auto-approve\n",
    "popd"
   ]
  },
  {
   "cell_type": "markdown",
   "id": "b8f22052",
   "metadata": {},
   "source": [
    "## 8. Cleanup Resources\n",
    "\n",
    "**IMPORTANT**: Always clean up resources after testing to avoid unnecessary costs."
   ]
  },
  {
   "cell_type": "code",
   "execution_count": null,
   "id": "3ebbbfe2",
   "metadata": {},
   "outputs": [],
   "source": [
    "# Cleanup with Terraform\n",
    "echo \"🧹 Terraform Cleanup\"\n",
    "echo \"=====================\"\n",
    "\n",
    "echo \"⚠️  WARNING: This will destroy all provisioned resources!\"\n",
    "echo \"💾 Make sure to save any important data before proceeding\"\n",
    "echo \"\"\n",
    "\n",
    "pushd $TERRAFORM_MODULES_DIR\n",
    "terraform destroy -var json_input=\"$(echo $INPUT_JSON | jq -c .)\" -var-file $TERRAFORM_INPUT_FILE --auto-approve\n",
    "popd"
   ]
  },
  {
   "cell_type": "markdown",
   "id": "339f04ce",
   "metadata": {},
   "source": [
    "## 9. Delete Resource Group\n",
    "\n",
    "**IMPORTANT**: Always clean up resources after testing to avoid unnecessary costs."
   ]
  },
  {
   "cell_type": "code",
   "execution_count": null,
   "id": "20d167d0",
   "metadata": {},
   "outputs": [],
   "source": [
    "# Final cleanup - Delete Resource Group\n",
    "echo \"🗑️  Final Cleanup\"\n",
    "echo \"================\"\n",
    "\n",
    "echo \"🧹 After Terraform destroys resources, delete the resource group:\"\n",
    "echo \"\"\n",
    "az group delete --name $RUN_ID -y\n",
    "\n",
    "echo \"✅ This will ensure all resources are completely removed\"\n",
    "echo \"💰 This prevents any lingering costs from orphaned resources\""
   ]
  }
 ],
 "metadata": {
  "kernelspec": {
   "display_name": "Bash",
   "language": "bash",
   "name": "bash"
  },
  "language_info": {
   "codemirror_mode": "shell",
   "file_extension": ".sh",
   "mimetype": "text/x-sh",
   "name": "bash"
  }
 },
 "nbformat": 4,
 "nbformat_minor": 5
}
